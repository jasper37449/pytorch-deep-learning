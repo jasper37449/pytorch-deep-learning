{
 "cells": [
  {
   "cell_type": "markdown",
   "metadata": {},
   "source": [
    "## PyTorch Workflow\n",
    "\n",
    "Book : https://www.learnpytorch.io/01_pytorch_workflow/\n",
    "Questions : https://github.com/mrdbourke/pytorch-deep-learning/discussions\n",
    "\n",
    "# Topics\n",
    "* Data (prep and load)\n",
    "* Build model\n",
    "* Fitting the model to data (training)\n",
    "* Make predictions and evaluate a model (inference)\n",
    "* save and load a model\n",
    "* connect everything together"
   ]
  },
  {
   "cell_type": "code",
   "execution_count": 1,
   "metadata": {},
   "outputs": [
    {
     "data": {
      "text/plain": [
       "'2.6.0+cu126'"
      ]
     },
     "execution_count": 1,
     "metadata": {},
     "output_type": "execute_result"
    }
   ],
   "source": [
    "import torch\n",
    "from torch import nn #PyTorch's building blocks for neural networks\n",
    "import matplotlib.pyplot as plt\n",
    "\n",
    "#PyTorch Version\n",
    "torch.__version__"
   ]
  },
  {
   "cell_type": "markdown",
   "metadata": {},
   "source": [
    "## 1. Data (Prep and Load)\n",
    "\n",
    "Data can be almost anything in ML\n",
    "* Excel sheet\n",
    "* Images\n",
    "* Videos\n",
    "* Audio\n",
    "* DNA\n",
    "* Text\n",
    "\n",
    "ML is a game of 2 parts :\n",
    "1. Get data into a numberical representation\n",
    "2. Build a model to learn patterns in that numerical representation"
   ]
  },
  {
   "cell_type": "code",
   "execution_count": 6,
   "metadata": {},
   "outputs": [
    {
     "name": "stdout",
     "output_type": "stream",
     "text": [
      "tensor([0.0000, 0.0200, 0.0400, 0.0600, 0.0800, 0.1000, 0.1200, 0.1400, 0.1600,\n",
      "        0.1800]) 50 torch.Size([50])\n",
      "tensor([0.3000, 0.3140, 0.3280, 0.3420, 0.3560, 0.3700, 0.3840, 0.3980, 0.4120,\n",
      "        0.4260]) 50\n"
     ]
    }
   ],
   "source": [
    "# Test out linear regression formula ( y = a + bx )\n",
    "# a = bias\n",
    "# b = weight\n",
    "weight = 0.7\n",
    "bias = 0.3\n",
    "start = 0\n",
    "end = 1\n",
    "step = 0.02\n",
    "X = torch.arange(start, end, step) #.unsqueeze(dim = 1)\n",
    "y = bias + (weight * X)\n",
    "\n",
    "print(X[:10], len(X), X.shape)\n",
    "print(y[:10], len(y))\n"
   ]
  },
  {
   "cell_type": "code",
   "execution_count": null,
   "metadata": {},
   "outputs": [],
   "source": []
  }
 ],
 "metadata": {
  "kernelspec": {
   "display_name": "base",
   "language": "python",
   "name": "python3"
  },
  "language_info": {
   "codemirror_mode": {
    "name": "ipython",
    "version": 3
   },
   "file_extension": ".py",
   "mimetype": "text/x-python",
   "name": "python",
   "nbconvert_exporter": "python",
   "pygments_lexer": "ipython3",
   "version": "3.12.7"
  }
 },
 "nbformat": 4,
 "nbformat_minor": 2
}
